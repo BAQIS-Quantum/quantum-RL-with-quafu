{
 "cells": [
  {
   "cell_type": "code",
   "execution_count": 1,
   "id": "initial_id",
   "metadata": {
    "collapsed": true,
    "ExecuteTime": {
     "end_time": "2023-10-16T09:53:00.626354656Z",
     "start_time": "2023-10-16T09:52:59.425911608Z"
    }
   },
   "outputs": [
    {
     "name": "stderr",
     "output_type": "stream",
     "text": [
      "2023-10-16 17:53:00.570322: I tensorflow/stream_executor/cuda/cuda_gpu_executor.cc:939] successful NUMA node read from SysFS had negative value (-1), but there must be at least one NUMA node, so returning NUMA node zero\n",
      "2023-10-16 17:53:00.574557: I tensorflow/stream_executor/cuda/cuda_gpu_executor.cc:939] successful NUMA node read from SysFS had negative value (-1), but there must be at least one NUMA node, so returning NUMA node zero\n",
      "2023-10-16 17:53:00.574659: I tensorflow/stream_executor/cuda/cuda_gpu_executor.cc:939] successful NUMA node read from SysFS had negative value (-1), but there must be at least one NUMA node, so returning NUMA node zero\n"
     ]
    }
   ],
   "source": [
    "import tensorflow as tf\n",
    "\n",
    "using_gpu_index = 0 # 使用的 GPU 号码\n",
    "gpu_list = tf.config.experimental.list_physical_devices('GPU')\n",
    "tf.config.experimental.set_virtual_device_configuration(\n",
    "        gpu_list[using_gpu_index],\n",
    "        [tf.config.experimental.VirtualDeviceConfiguration(memory_limit=1024 * 4)]\n",
    "    )"
   ]
  },
  {
   "cell_type": "code",
   "execution_count": 2,
   "outputs": [
    {
     "name": "stderr",
     "output_type": "stream",
     "text": [
      "2023-10-16 17:53:07.630952: I tensorflow/core/platform/cpu_feature_guard.cc:151] This TensorFlow binary is optimized with oneAPI Deep Neural Network Library (oneDNN) to use the following CPU instructions in performance-critical operations:  AVX2 FMA\n",
      "To enable them in other operations, rebuild TensorFlow with the appropriate compiler flags.\n",
      "2023-10-16 17:53:07.631732: I tensorflow/stream_executor/cuda/cuda_gpu_executor.cc:939] successful NUMA node read from SysFS had negative value (-1), but there must be at least one NUMA node, so returning NUMA node zero\n",
      "2023-10-16 17:53:07.631853: I tensorflow/stream_executor/cuda/cuda_gpu_executor.cc:939] successful NUMA node read from SysFS had negative value (-1), but there must be at least one NUMA node, so returning NUMA node zero\n",
      "2023-10-16 17:53:07.631913: I tensorflow/stream_executor/cuda/cuda_gpu_executor.cc:939] successful NUMA node read from SysFS had negative value (-1), but there must be at least one NUMA node, so returning NUMA node zero\n",
      "2023-10-16 17:53:07.935852: I tensorflow/stream_executor/cuda/cuda_gpu_executor.cc:939] successful NUMA node read from SysFS had negative value (-1), but there must be at least one NUMA node, so returning NUMA node zero\n",
      "2023-10-16 17:53:07.935990: I tensorflow/stream_executor/cuda/cuda_gpu_executor.cc:939] successful NUMA node read from SysFS had negative value (-1), but there must be at least one NUMA node, so returning NUMA node zero\n",
      "2023-10-16 17:53:07.936057: I tensorflow/stream_executor/cuda/cuda_gpu_executor.cc:939] successful NUMA node read from SysFS had negative value (-1), but there must be at least one NUMA node, so returning NUMA node zero\n",
      "2023-10-16 17:53:07.936119: I tensorflow/core/common_runtime/gpu/gpu_device.cc:1525] Created device /job:localhost/replica:0/task:0/device:GPU:0 with 4096 MB memory:  -> device: 0, name: NVIDIA GeForce RTX 2080 Ti, pci bus id: 0000:01:00.0, compute capability: 7.5\n"
     ]
    },
    {
     "name": "stdout",
     "output_type": "stream",
     "text": [
      "Acrobot-v1\n"
     ]
    }
   ],
   "source": [
    "import cirq\n",
    "import models.quantum_genotypes as genotypes\n",
    "\n",
    "from models.quantum_models import generate_model_policy\n",
    "from functools import reduce\n",
    "env_name = \"Acrobot-v1\"\n",
    "\n",
    "genotype = genotypes.ORI_TYPE_AB\n",
    "\n",
    "n_qubits = 6 # Dimension of the state vectors in CartPole\n",
    "# n_layers = 5 # Number of layers in the PQC\n",
    "n_actions = 3 # Number of actions in CartPole\n",
    "\n",
    "qubits = cirq.GridQubit.rect(1, n_qubits)\n",
    "observables = [cirq.Z(qubits[0]), cirq.Z(qubits[1]), cirq.Z(qubits[2]), cirq.Z(qubits[3]), cirq.Z(qubits[4]), cirq.Z(qubits[5])] # Z_0*Z_1*Z_2*Z_3\n",
    "\n",
    "\n",
    "# generate_model_policy(qubits, genotype, n_actions, beta, observables, env):\n",
    "model = generate_model_policy(qubits, genotype, n_actions, 1., observables, env_name, using_H=True)"
   ],
   "metadata": {
    "collapsed": false,
    "ExecuteTime": {
     "end_time": "2023-10-16T09:53:08.711086323Z",
     "start_time": "2023-10-16T09:53:06.830974022Z"
    }
   },
   "id": "cdb8da96dd03a8e8"
  },
  {
   "cell_type": "code",
   "execution_count": 3,
   "outputs": [],
   "source": [
    "from models.value_net import ValueNet"
   ],
   "metadata": {
    "collapsed": false,
    "ExecuteTime": {
     "end_time": "2023-10-16T09:53:44.253307228Z",
     "start_time": "2023-10-16T09:53:44.186589197Z"
    }
   },
   "id": "9903f879c0d8fa6"
  },
  {
   "cell_type": "code",
   "execution_count": 4,
   "outputs": [
    {
     "data": {
      "text/plain": "<IPython.core.display.HTML object>",
      "text/html": "<pre>(0, 0): ───H───Rx(theta0)────Ry(theta1)────Rz(theta2)────@───────────────────Rx(x2_0)───Rx(theta18)───Ry(theta19)───Rz(theta20)───@───────────────────Rx(x5_0)───Rx(theta36)───Ry(theta37)───Rz(theta38)───@───────────────────Rx(x8_0)───Rx(theta54)───Ry(theta55)───Rz(theta56)───@───────────────────Rx(x11_0)───Rx(theta72)───Ry(theta73)───Rz(theta74)───@───────────────────Rx(x14_0)───Rx(theta90)────Ry(theta91)────Rz(theta92)────\n                                                         │                                                                        │                                                                        │                                                                        │                                                                         │\n(0, 1): ───H───Rx(theta3)────Ry(theta4)────Rz(theta5)────@───@───────────────Rx(x2_1)───Rx(theta21)───Ry(theta22)───Rz(theta23)───@───@───────────────Rx(x5_1)───Rx(theta39)───Ry(theta40)───Rz(theta41)───@───@───────────────Rx(x8_1)───Rx(theta57)───Ry(theta58)───Rz(theta59)───@───@───────────────Rx(x11_1)───Rx(theta75)───Ry(theta76)───Rz(theta77)───@───@───────────────Rx(x14_1)───Rx(theta93)────Ry(theta94)────Rz(theta95)────\n                                                             │                                                                        │                                                                        │                                                                        │                                                                         │\n(0, 2): ───H───Rx(theta6)────Ry(theta7)────Rz(theta8)────────@───@───────────Rx(x2_2)───Rx(theta24)───Ry(theta25)───Rz(theta26)───────@───@───────────Rx(x5_2)───Rx(theta42)───Ry(theta43)───Rz(theta44)───────@───@───────────Rx(x8_2)───Rx(theta60)───Ry(theta61)───Rz(theta62)───────@───@───────────Rx(x11_2)───Rx(theta78)───Ry(theta79)───Rz(theta80)───────@───@───────────Rx(x14_2)───Rx(theta96)────Ry(theta97)────Rz(theta98)────\n                                                                 │                                                                        │                                                                        │                                                                        │                                                                         │\n(0, 3): ───H───Rx(theta9)────Ry(theta10)───Rz(theta11)───────────@───@───────Rx(x2_3)───Rx(theta27)───Ry(theta28)───Rz(theta29)───────────@───@───────Rx(x5_3)───Rx(theta45)───Ry(theta46)───Rz(theta47)───────────@───@───────Rx(x8_3)───Rx(theta63)───Ry(theta64)───Rz(theta65)───────────@───@───────Rx(x11_3)───Rx(theta81)───Ry(theta82)───Rz(theta83)───────────@───@───────Rx(x14_3)───Rx(theta99)────Ry(theta100)───Rz(theta101)───\n                                                                     │                                                                        │                                                                        │                                                                        │                                                                         │\n(0, 4): ───H───Rx(theta12)───Ry(theta13)───Rz(theta14)───────────────@───@───Rx(x2_4)───Rx(theta30)───Ry(theta31)───Rz(theta32)───────────────@───@───Rx(x5_4)───Rx(theta48)───Ry(theta49)───Rz(theta50)───────────────@───@───Rx(x8_4)───Rx(theta66)───Ry(theta67)───Rz(theta68)───────────────@───@───Rx(x11_4)───Rx(theta84)───Ry(theta85)───Rz(theta86)───────────────@───@───Rx(x14_4)───Rx(theta102)───Ry(theta103)───Rz(theta104)───\n                                                                         │                                                                        │                                                                        │                                                                        │                                                                         │\n(0, 5): ───H───Rx(theta15)───Ry(theta16)───Rz(theta17)───────────────────@───Rx(x2_5)───Rx(theta33)───Ry(theta34)───Rz(theta35)───────────────────@───Rx(x5_5)───Rx(theta51)───Ry(theta52)───Rz(theta53)───────────────────@───Rx(x8_5)───Rx(theta69)───Ry(theta70)───Rz(theta71)───────────────────@───Rx(x11_5)───Rx(theta87)───Ry(theta88)───Rz(theta89)───────────────────@───Rx(x14_5)───Rx(theta105)───Ry(theta106)───Rz(theta107)───</pre>"
     },
     "metadata": {},
     "output_type": "display_data"
    }
   ],
   "source": [
    "from IPython.core.display import HTML\n",
    "from models.quantum_models import generate_circuit\n",
    "\n",
    "circuit, params, inputs = generate_circuit(qubits, genotype, using_H=True)\n",
    "display(HTML(f\"<pre>{circuit}</pre>\"))"
   ],
   "metadata": {
    "collapsed": false,
    "ExecuteTime": {
     "end_time": "2023-10-16T09:53:44.640317054Z",
     "start_time": "2023-10-16T09:53:44.598708995Z"
    }
   },
   "id": "b20e72cdaed71bc"
  },
  {
   "cell_type": "code",
   "execution_count": 5,
   "outputs": [],
   "source": [
    "from tensorflow.keras.optimizers import Adam\n",
    "import gym\n",
    "env_name = \"Acrobot-v1\"\n",
    "env = gym.make(env_name)\n",
    "state_dim = env.observation_space.shape[0]\n",
    "action_dim = env.action_space.n\n",
    "# hidden_dim = 64\n",
    "\n",
    "# device = torch.device(\"cpu\")\n",
    "\n",
    "actor = model\n",
    "\n",
    "critic = ValueNet()  # 价值网络\n",
    "# 广义优势估计（Generalized Advantage Estimation，GAE）\n",
    "# gamma 是GAE的超参数\n",
    "gamma = 0.98\n",
    "\n",
    "# lmbda 也用来计算广义优势估\n",
    "lmbda = 0.95\n",
    "\n",
    "epochs = 10  # 一条序列的数据用来训练轮数 4\n",
    "# epochs = 4  # 一条序列的数据用来训练轮数 4\n",
    "eps = 0.2  # 裁剪超参数\n",
    "# actor_lr = 1e-3\n",
    "# critic_lr = 1e-2  # 结合 量子电路后 这个变得重要了起来\n",
    "# critic_lr = 1e-1  # 结合 量子电路后 这个变得重要了起来\n",
    "critic_lr = 2.5e-4 #\n",
    "\n",
    "# actor_optimizer = Adam(learning_rate=actor_lr)\n",
    "\n",
    "optimizer_in = Adam(learning_rate=0.1, amsgrad=False, epsilon=1e-5)\n",
    "optimizer_var = Adam(learning_rate=0.01, amsgrad=False, epsilon=1e-5)\n",
    "optimizer_out = Adam(learning_rate=0.1, amsgrad=False, epsilon=1e-5)\n",
    "\n",
    "# Assign the model parameters to each optimizer\n",
    "w_in, w_var, w_out = 1, 0, 2\n",
    "\n",
    "# critic_optimizer = Adam(learning_rate=critic_lr)\n",
    "critic_optimizer = Adam(learning_rate=critic_lr, amsgrad=False, epsilon=1e-5) "
   ],
   "metadata": {
    "collapsed": false,
    "ExecuteTime": {
     "end_time": "2023-10-16T09:54:40.560361431Z",
     "start_time": "2023-10-16T09:54:40.510910336Z"
    }
   },
   "id": "72e7bbf2e17c6cfe"
  },
  {
   "cell_type": "code",
   "execution_count": 6,
   "outputs": [],
   "source": [
    "from misc.utils import train"
   ],
   "metadata": {
    "collapsed": false,
    "ExecuteTime": {
     "end_time": "2023-10-16T09:54:41.213209143Z",
     "start_time": "2023-10-16T09:54:41.108820158Z"
    }
   },
   "id": "4dc334a2859a716d"
  },
  {
   "cell_type": "code",
   "execution_count": 7,
   "outputs": [],
   "source": [
    "import numpy as np\n",
    "\n",
    "state_bounds = np.array([1., 1., 1., 1., 12.567 , 28.274])\n",
    "state_ub = state_bounds\n",
    "state_lb = -1 * state_bounds"
   ],
   "metadata": {
    "collapsed": false,
    "ExecuteTime": {
     "end_time": "2023-10-16T09:54:42.064049994Z",
     "start_time": "2023-10-16T09:54:42.060746991Z"
    }
   },
   "id": "7f5034c1e9bc6014"
  },
  {
   "cell_type": "code",
   "execution_count": null,
   "outputs": [],
   "source": [
    "return_list = train(env_name, actor, critic, gamma, lmbda, eps, epochs,\n",
    "          optimizer_in, optimizer_var, optimizer_out, critic_optimizer, -150.,\n",
    "          critic_normalized=True, state_ub=state_ub, state_lb=state_lb, num_episodes=5000)"
   ],
   "metadata": {
    "collapsed": false
   },
   "id": "4d13a6c411569fb"
  },
  {
   "cell_type": "code",
   "execution_count": 9,
   "outputs": [],
   "source": [
    "import pandas as pd\n",
    "\n",
    "# 创建一个DataFrame对象\n",
    "df = pd.DataFrame({'return_list': return_list})\n",
    "\n",
    "# 将DataFrame保存到CSV文件\n",
    "df.to_csv('../../../../results/example/ppo/ppo_quafu/all_state_normalize/return_list_AB', index=False)  # 可以指定文件名和是否包括行索引\n",
    "actor.save_weights('../../../../weights/example/ppo/ppo_quafu/all_state_normalize/weights_AB_ACTOR_amsgrad.h5')\n",
    "critic.save_weights('../../../../weights/example/ppo/ppo_quafu/all_state_normalize/weights_AB_CRITIC_amsgrad.h5')"
   ],
   "metadata": {
    "collapsed": false,
    "ExecuteTime": {
     "end_time": "2023-10-15T15:21:12.890337704Z",
     "start_time": "2023-10-15T15:21:12.813104655Z"
    }
   },
   "id": "1e4d20975d2a9b26"
  },
  {
   "cell_type": "code",
   "execution_count": 10,
   "outputs": [
    {
     "data": {
      "text/plain": "<Figure size 1000x500 with 1 Axes>",
      "image/png": "[encoded data removed]"
     },
     "metadata": {},
     "output_type": "display_data"
    }
   ],
   "source": [
    "from matplotlib import pyplot as plt\n",
    "\n",
    "# validate\n",
    "plt.figure(figsize=(10,5))\n",
    "plt.plot(return_list)\n",
    "plt.xlabel('Epsiode')\n",
    "plt.ylabel('Collected rewards')\n",
    "plt.show()"
   ],
   "metadata": {
    "collapsed": false,
    "ExecuteTime": {
     "end_time": "2023-10-15T15:22:01.635469548Z",
     "start_time": "2023-10-15T15:22:01.422558460Z"
    }
   },
   "id": "c883002d96f2149b"
  },
  {
   "cell_type": "code",
   "execution_count": null,
   "outputs": [],
   "source": [],
   "metadata": {
    "collapsed": false
   },
   "id": "5cd44659c9913ae7"
  }
 ],
 "metadata": {
  "kernelspec": {
   "display_name": "Python 3",
   "language": "python",
   "name": "python3"
  },
  "language_info": {
   "codemirror_mode": {
    "name": "ipython",
    "version": 2
   },
   "file_extension": ".py",
   "mimetype": "text/x-python",
   "name": "python",
   "nbconvert_exporter": "python",
   "pygments_lexer": "ipython2",
   "version": "2.7.6"
  }
 },
 "nbformat": 4,
 "nbformat_minor": 5
}
