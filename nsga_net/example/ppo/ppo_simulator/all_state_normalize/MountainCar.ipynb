{
 "cells": [
  {
   "cell_type": "code",
   "execution_count": 1,
   "id": "initial_id",
   "metadata": {
    "collapsed": true,
    "ExecuteTime": {
     "end_time": "2023-10-15T07:24:16.095824841Z",
     "start_time": "2023-10-15T07:24:15.105453361Z"
    }
   },
   "outputs": [
    {
     "name": "stderr",
     "output_type": "stream",
     "text": [
      "2023-10-15 15:24:16.088263: I tensorflow/stream_executor/cuda/cuda_gpu_executor.cc:939] successful NUMA node read from SysFS had negative value (-1), but there must be at least one NUMA node, so returning NUMA node zero\n",
      "2023-10-15 15:24:16.092384: I tensorflow/stream_executor/cuda/cuda_gpu_executor.cc:939] successful NUMA node read from SysFS had negative value (-1), but there must be at least one NUMA node, so returning NUMA node zero\n",
      "2023-10-15 15:24:16.092486: I tensorflow/stream_executor/cuda/cuda_gpu_executor.cc:939] successful NUMA node read from SysFS had negative value (-1), but there must be at least one NUMA node, so returning NUMA node zero\n"
     ]
    }
   ],
   "source": [
    "import tensorflow as tf\n",
    "\n",
    "using_gpu_index = 0 # 使用的 GPU 号码\n",
    "gpu_list = tf.config.experimental.list_physical_devices('GPU')\n",
    "tf.config.experimental.set_virtual_device_configuration(\n",
    "        gpu_list[using_gpu_index],\n",
    "        [tf.config.experimental.VirtualDeviceConfiguration(memory_limit=1024 * 4)]\n",
    "    )"
   ]
  },
  {
   "cell_type": "code",
   "execution_count": 2,
   "outputs": [
    {
     "name": "stderr",
     "output_type": "stream",
     "text": [
      "2023-10-15 15:24:16.851383: I tensorflow/core/platform/cpu_feature_guard.cc:151] This TensorFlow binary is optimized with oneAPI Deep Neural Network Library (oneDNN) to use the following CPU instructions in performance-critical operations:  AVX2 FMA\n",
      "To enable them in other operations, rebuild TensorFlow with the appropriate compiler flags.\n",
      "2023-10-15 15:24:16.852306: I tensorflow/stream_executor/cuda/cuda_gpu_executor.cc:939] successful NUMA node read from SysFS had negative value (-1), but there must be at least one NUMA node, so returning NUMA node zero\n",
      "2023-10-15 15:24:16.852433: I tensorflow/stream_executor/cuda/cuda_gpu_executor.cc:939] successful NUMA node read from SysFS had negative value (-1), but there must be at least one NUMA node, so returning NUMA node zero\n",
      "2023-10-15 15:24:16.852495: I tensorflow/stream_executor/cuda/cuda_gpu_executor.cc:939] successful NUMA node read from SysFS had negative value (-1), but there must be at least one NUMA node, so returning NUMA node zero\n",
      "2023-10-15 15:24:17.218174: I tensorflow/stream_executor/cuda/cuda_gpu_executor.cc:939] successful NUMA node read from SysFS had negative value (-1), but there must be at least one NUMA node, so returning NUMA node zero\n",
      "2023-10-15 15:24:17.218330: I tensorflow/stream_executor/cuda/cuda_gpu_executor.cc:939] successful NUMA node read from SysFS had negative value (-1), but there must be at least one NUMA node, so returning NUMA node zero\n",
      "2023-10-15 15:24:17.218409: I tensorflow/stream_executor/cuda/cuda_gpu_executor.cc:939] successful NUMA node read from SysFS had negative value (-1), but there must be at least one NUMA node, so returning NUMA node zero\n",
      "2023-10-15 15:24:17.218491: I tensorflow/core/common_runtime/gpu/gpu_device.cc:1525] Created device /job:localhost/replica:0/task:0/device:GPU:0 with 4096 MB memory:  -> device: 0, name: NVIDIA GeForce RTX 2080 Ti, pci bus id: 0000:01:00.0, compute capability: 7.5\n"
     ]
    },
    {
     "name": "stdout",
     "output_type": "stream",
     "text": [
      "MountainCar-v0\n"
     ]
    }
   ],
   "source": [
    "import cirq\n",
    "import models.quantum_genotypes as genotypes\n",
    "\n",
    "from models.quantum_models import generate_model_policy\n",
    "from functools import reduce\n",
    "env_name = \"MountainCar-v0\"\n",
    "\n",
    "genotype = genotypes.ORI_TYPE_MC\n",
    "\n",
    "n_qubits = 2  # Dimension of the state vectors in CartPole\n",
    "# n_layers = 6  # Number of layers in the PQC\n",
    "n_actions = 3  # Number of actions in CartPole\n",
    "\n",
    "qubits = cirq.GridQubit.rect(1, n_qubits)\n",
    "ops = [cirq.Z(q) for q in qubits]\n",
    "observables = [cirq.Z(qubits[0]), reduce((lambda x, y: x * y), ops), cirq.Z(qubits[1])]  # Z_0*Z_1*Z_2*Z_3\n",
    "\n",
    "\n",
    "# generate_model_policy(qubits, genotype, n_actions, beta, observables, env):\n",
    "model = generate_model_policy(qubits, genotype, n_actions, 1.5, observables, env_name, using_H=True)"
   ],
   "metadata": {
    "collapsed": false,
    "ExecuteTime": {
     "end_time": "2023-10-15T07:24:18.052563626Z",
     "start_time": "2023-10-15T07:24:16.098470832Z"
    }
   },
   "id": "3522d32ef1332c2b"
  },
  {
   "cell_type": "code",
   "execution_count": 3,
   "outputs": [],
   "source": [
    "from models.value_net import ValueNet"
   ],
   "metadata": {
    "collapsed": false,
    "ExecuteTime": {
     "end_time": "2023-10-15T07:24:18.053419522Z",
     "start_time": "2023-10-15T07:24:18.050596690Z"
    }
   },
   "id": "9b2c955c1bf5ea33"
  },
  {
   "cell_type": "code",
   "execution_count": 4,
   "outputs": [
    {
     "data": {
      "text/plain": "<IPython.core.display.HTML object>",
      "text/html": "<pre>(0, 0): ───H───Rx(theta0)───Ry(theta1)───Rz(theta2)───@───Rx(x2_0)───Rx(theta6)───Ry(theta7)────Rz(theta8)────@───Rx(x5_0)───Rx(theta12)───Ry(theta13)───Rz(theta14)───@───Rx(x8_0)───Rx(theta18)───Ry(theta19)───Rz(theta20)───@───Rx(x11_0)───Rx(theta24)───Ry(theta25)───Rz(theta26)───@───Rx(x14_0)───Rx(theta30)───Ry(theta31)───Rz(theta32)───Rx(x16_0)───@───Rx(theta36)───Ry(theta37)───Rz(theta38)───\n                                                      │                                                       │                                                        │                                                        │                                                         │                                                                     │\n(0, 1): ───H───Rx(theta3)───Ry(theta4)───Rz(theta5)───@───Rx(x2_1)───Rx(theta9)───Ry(theta10)───Rz(theta11)───@───Rx(x5_1)───Rx(theta15)───Ry(theta16)───Rz(theta17)───@───Rx(x8_1)───Rx(theta21)───Ry(theta22)───Rz(theta23)───@───Rx(x11_1)───Rx(theta27)───Ry(theta28)───Rz(theta29)───@───Rx(x14_1)───Rx(theta33)───Ry(theta34)───Rz(theta35)───Rx(x16_1)───@───Rx(theta39)───Ry(theta40)───Rz(theta41)───</pre>"
     },
     "metadata": {},
     "output_type": "display_data"
    }
   ],
   "source": [
    "from IPython.core.display import HTML\n",
    "from models.quantum_models import generate_circuit\n",
    "\n",
    "circuit, params, inputs = generate_circuit(qubits, genotype, using_H=True)\n",
    "display(HTML(f\"<pre>{circuit}</pre>\"))"
   ],
   "metadata": {
    "collapsed": false,
    "ExecuteTime": {
     "end_time": "2023-10-15T07:24:18.087673246Z",
     "start_time": "2023-10-15T07:24:18.054167843Z"
    }
   },
   "id": "9ebc5f2ae73d5b49"
  },
  {
   "cell_type": "code",
   "execution_count": 5,
   "outputs": [],
   "source": [
    "from tensorflow.keras.optimizers import Adam\n",
    "\n",
    "# hidden_dim = 64\n",
    "\n",
    "# device = torch.device(\"cpu\")\n",
    "\n",
    "actor = model\n",
    "\n",
    "critic = ValueNet()  # 价值网络\n",
    "# 广义优势估计（Generalized Advantage Estimation，GAE）\n",
    "# gamma 是GAE的超参数\n",
    "gamma = 0.98\n",
    "\n",
    "# lmbda 也用来计算广义优势估\n",
    "lmbda = 0.95\n",
    "\n",
    "epochs = 10  # 一条序列的数据用来训练轮数 4\n",
    "# epochs = 4  # 一条序列的数据用来训练轮数 4\n",
    "eps = 0.2  # 裁剪超参数\n",
    "# actor_lr = 1e-3\n",
    "critic_lr = 1e-2  # 结合 量子电路后 这个变得重要了起来\n",
    "# critic_lr = 1e-1  # 结合 量子电路后 这个变得重要了起来\n",
    "# critic_lr = 2.5e-4 #\n",
    "\n",
    "# actor_optimizer = Adam(learning_rate=actor_lr)\n",
    "\n",
    "# optimizer_in = Adam(learning_rate=0.01, amsgrad=True)\n",
    "# optimizer_var = Adam(learning_rate=0.01, amsgrad=True)\n",
    "# optimizer_out = Adam(learning_rate=0.1, amsgrad=True)\n",
    "\n",
    "optimizer_in = Adam(learning_rate=0.01, epsilon=1e-5, amsgrad=False)\n",
    "optimizer_var = Adam(learning_rate=0.01, epsilon=1e-5, amsgrad=False)\n",
    "optimizer_out = Adam(learning_rate=0.1, epsilon=1e-5, amsgrad=False)\n",
    "\n",
    "# Assign the model parameters to each optimizer\n",
    "# w_in, w_var, w_out = 1, 0, 2\n",
    "\n",
    "# critic_optimizer = Adam(learning_rate=critic_lr)\n",
    "# critic_optimizer = Adam(learning_rate=critic_lr, amsgrad=True)  # 这个不知道 似乎作用有限\n",
    "critic_optimizer = Adam(learning_rate=critic_lr, epsilon=1e-5, amsgrad=False)  # 全FALSE mountain car 可以收敛"
   ],
   "metadata": {
    "collapsed": false,
    "ExecuteTime": {
     "end_time": "2023-10-15T07:24:18.094580735Z",
     "start_time": "2023-10-15T07:24:18.085955009Z"
    }
   },
   "id": "c1bc668c870b5fb2"
  },
  {
   "cell_type": "code",
   "execution_count": 6,
   "outputs": [],
   "source": [
    "from misc.utils import train\n",
    "import numpy as np\n",
    "\n",
    "state_ub = np.array([0.6, 0.07])\n",
    "state_lb = np.array([-1.2, -0.07])"
   ],
   "metadata": {
    "collapsed": false,
    "ExecuteTime": {
     "end_time": "2023-10-15T07:24:18.114836335Z",
     "start_time": "2023-10-15T07:24:18.095922149Z"
    }
   },
   "id": "bb3b6e639541836"
  },
  {
   "cell_type": "code",
   "execution_count": 7,
   "outputs": [
    {
     "name": "stdout",
     "output_type": "stream",
     "text": [
      "当前迭代次数为：0, 当前奖励为：-178.32790901395924, 平均奖励为：-178.32790901395924\n",
      "当前迭代次数为：1, 当前奖励为：-179.61012625644625, 平均奖励为：-178.96901763520276\n",
      "当前迭代次数为：2, 当前奖励为：-179.30537125589385, 平均奖励为：-179.08113550876647\n",
      "当前迭代次数为：3, 当前奖励为：-179.69398306266683, 平均奖励为：-179.23434739724155\n",
      "当前迭代次数为：4, 当前奖励为：-179.0052922705145, 平均奖励为：-179.18853637189613\n",
      "当前迭代次数为：5, 当前奖励为：-179.21377819924123, 平均奖励为：-179.19274334312033\n",
      "当前迭代次数为：6, 当前奖励为：-176.15915220964467, 平均奖励为：-178.75937318119523\n",
      "当前迭代次数为：7, 当前奖励为：-173.44542814661054, 平均奖励为：-178.09513005187213\n",
      "当前迭代次数为：8, 当前奖励为：-178.0384649595702, 平均奖励为：-178.08883393050525\n",
      "当前迭代次数为：9, 当前奖励为：-175.81779674127733, 平均奖励为：-177.86173021158245\n",
      "当前迭代次数为：10, 当前奖励为：-177.2126314249513, 平均奖励为：-177.75020245268166\n",
      "当前迭代次数为：11, 当前奖励为：-173.0713578526864, 平均奖励为：-177.09632561230566\n",
      "当前迭代次数为：12, 当前奖励为：-177.52512832324823, 平均奖励为：-176.91830131904112\n",
      "当前迭代次数为：13, 当前奖励为：-176.8295040733827, 平均奖励为：-176.6318534201127\n",
      "当前迭代次数为：14, 当前奖励为：-174.1553141396643, 平均奖励为：-176.1468556070277\n",
      "当前迭代次数为：15, 当前奖励为：-175.17866011437337, 平均奖励为：-175.74334379854093\n",
      "当前迭代次数为：16, 当前奖励为：-168.85184465096054, 平均奖励为：-175.01261304267248\n",
      "当前迭代次数为：17, 当前奖励为：-167.62761211404043, 平均奖励为：-174.4308314394155\n",
      "当前迭代次数为：18, 当前奖励为：-172.26723620954962, 平均奖励为：-173.8537085644134\n",
      "当前迭代次数为：19, 当前奖励为：-173.3223169859014, 平均奖励为：-173.60416058887583\n",
      "当前迭代次数为：20, 当前奖励为：-168.15158636470014, 平均奖励为：-172.6980560828507\n",
      "当前迭代次数为：21, 当前奖励为：-172.9776362317529, 平均奖励为：-172.68868392075734\n",
      "当前迭代次数为：22, 当前奖励为：-170.7226518327578, 平均奖励为：-172.00843627170832\n",
      "当前迭代次数为：23, 当前奖励为：-169.0432606336802, 平均奖励为：-171.22981192773804\n",
      "当前迭代次数为：24, 当前奖励为：-170.31524255558563, 平均奖励为：-170.8458047693302\n",
      "当前迭代次数为：25, 当前奖励为：-171.53223796719396, 平均奖励为：-170.48116255461227\n",
      "当前迭代次数为：26, 当前奖励为：-171.2826256916116, 平均奖励为：-170.7242406586774\n",
      "当前迭代次数为：27, 当前奖励为：-165.44876845219997, 平均奖励为：-170.50635629249334\n",
      "当前迭代次数为：28, 当前奖励为：-156.08665815317303, 平均奖励为：-168.88829848685566\n",
      "当前迭代次数为：29, 当前奖励为：-157.71485434071565, 平均奖励为：-167.3275522223371\n",
      "当前迭代次数为：30, 当前奖励为：-165.60520369609463, 平均奖励为：-167.0729139554765\n",
      "当前迭代次数为：31, 当前奖励为：-136.5224958726603, 平均奖励为：-163.42739991956728\n",
      "当前迭代次数为：32, 当前奖励为：-174.87256128938893, 平均奖励为：-163.84239086523036\n",
      "当前迭代次数为：33, 当前奖励为：-131.8977098030191, 平均奖励为：-160.12783578216428\n",
      "当前迭代次数为：34, 当前奖励为：-130.68536239704994, 平均奖励为：-156.16484776631071\n",
      "当前迭代次数为：35, 当前奖励为：-149.52382173339538, 平均奖励为：-153.96400614293086\n",
      "当前迭代次数为：36, 当前奖励为：-163.44150100211027, 平均奖励为：-153.17989367398073\n",
      "当前迭代次数为：37, 当前奖励为：-136.82460267674082, 平均奖励为：-150.3174770964348\n",
      "当前迭代次数为：38, 当前奖励为：-126.20842109498508, 平均奖励为：-147.32965339061602\n",
      "当前迭代次数为：39, 当前奖励为：-151.86344621550515, 平均奖励为：-146.74451257809497\n",
      "当前迭代次数为：40, 当前奖励为：-166.42124235515612, 平均奖励为：-146.82611644400112\n",
      "当前迭代次数为：41, 当前奖励为：-158.2054685836814, 平均奖励为：-148.99441371510324\n",
      "当前迭代次数为：42, 当前奖励为：-157.32916368930975, 平均奖励为：-147.2400739550953\n",
      "当前迭代次数为：43, 当前奖励为：-140.7502704132216, 平均奖励为：-148.12533001611558\n",
      "当前迭代次数为：44, 当前奖励为：-160.90120459205184, 平均奖励为：-151.14691423561575\n",
      "当前迭代次数为：45, 当前奖励为：-149.85415112165825, 平均奖励为：-151.17994717444205\n",
      "当前迭代次数为：46, 当前奖励为：-165.2539727048245, 平均奖励为：-151.36119434471348\n",
      "当前迭代次数为：47, 当前奖励为：-158.2865729098987, 平均奖励为：-153.50739136802923\n",
      "当前迭代次数为：48, 当前奖励为：-116.49473065330916, 平均奖励为：-152.53602232386166\n",
      "当前迭代次数为：49, 当前奖励为：-105.78041264227639, 平均奖励为：-147.92771896653878\n",
      "当前迭代次数为：50, 当前奖励为：-112.07808412919216, 平均奖励为：-142.49340314394237\n",
      "当前迭代次数为：51, 当前奖励为：-112.82942384414827, 平均奖励为：-137.95579866998906\n",
      "当前迭代次数为：52, 当前奖励为：-113.91277467042732, 平均奖励为：-133.61415976810082\n",
      "当前迭代次数为：53, 当前奖励为：-121.27165381651778, 平均奖励为：-131.66629810843045\n",
      "当前迭代次数为：54, 当前奖励为：-109.90953783646916, 平均奖励为：-126.56713143287216\n",
      "当前迭代次数为：55, 当前奖励为：-103.32818698933549, 平均奖励为：-121.9145350196399\n",
      "当前迭代次数为：56, 当前奖励为：-128.31248738955492, 平均奖励为：-118.22038648811295\n",
      "当前迭代次数为：57, 当前奖励为：-103.58195624757997, 平均奖励为：-112.74992482188107\n",
      "当前迭代次数为：58, 当前奖励为：-104.78219802424083, 平均奖励为：-111.57867155897422\n",
      "当前迭代次数为：59, 当前奖励为：-117.0098873102804, 平均奖励为：-112.70161902577463\n",
      "当前迭代次数为：60, 当前奖励为：-118.94309510221042, 平均奖励为：-113.38812012307646\n",
      "当前迭代次数为：61, 当前奖励为：-106.38261106790665, 平均奖励为：-112.7434388454523\n",
      "当前迭代次数为：62, 当前奖励为：-117.48266118491775, 平均奖励为：-113.10042749690133\n",
      "当前迭代次数为：63, 当前奖励为：-104.89364401960056, 平均奖励为：-111.46262651720963\n",
      "当前迭代次数为：64, 当前奖励为：-100.98877380775703, 平均奖励为：-110.5705501143384\n",
      "当前迭代次数为：65, 当前奖励为：-141.37556276870967, 平均奖励为：-114.37528769227583\n",
      "当前迭代次数为：66, 当前奖励为：-110.64805432092298, 平均奖励为：-112.60884438541261\n",
      "当前迭代次数为：67, 当前奖励为：-107.33198176891356, 平均奖励为：-112.98384693754596\n",
      "当前迭代次数为：68, 当前奖励为：-118.73682317878726, 平均奖励为：-114.37930945300063\n",
      "当前迭代次数为：69, 当前奖励为：-123.89400929229048, 平均奖励为：-115.06772165120165\n",
      "当前迭代次数为：70, 当前奖励为：-114.5036823698113, 平均奖励为：-114.62378037796172\n",
      "当前迭代次数为：71, 当前奖励为：-125.26102702460209, 平均奖励为：-116.51162197363126\n",
      "当前迭代次数为：72, 当前奖励为：-108.40446718921672, 平均奖励为：-115.60380257406116\n",
      "当前迭代次数为：73, 当前奖励为：-100.66934735774213, 平均奖励为：-115.18137290787531\n",
      "当前迭代次数为：74, 当前奖励为：-119.85288429784872, 平均奖励为：-117.06778395688448\n",
      "当前迭代次数为：75, 当前奖励为：-124.56472928135136, 平均奖励为：-115.38670060814866\n",
      "当前迭代次数为：76, 当前奖励为：-123.50825085134484, 平均奖励为：-116.67272026119085\n",
      "当前迭代次数为：77, 当前奖励为：-102.19583002879969, 平均奖励为：-116.15910508717946\n",
      "当前迭代次数为：78, 当前奖励为：-138.26771191604965, 平均奖励为：-118.11219396090569\n",
      "当前迭代次数为：79, 当前奖励为：-107.07966522641098, 平均奖励为：-116.43075955431775\n",
      "当前迭代次数为：80, 当前奖励为：-152.74846677408615, 平均奖励为：-120.25523799474524\n",
      "当前迭代次数为：81, 当前奖励为：-103.35383634040429, 平均奖励为：-118.06451892632545\n",
      "当前迭代次数为：82, 当前奖励为：-109.03964044281852, 平均奖励为：-118.12803625168564\n",
      "当前迭代次数为：83, 当前奖励为：-115.07909893462316, 平均奖励为：-119.56901140937373\n",
      "当前迭代次数为：84, 当前奖励为：-108.41295078480746, 平均奖励为：-118.4250180580696\n",
      "当前迭代次数为：85, 当前奖励为：-110.38094065605058, 平均奖励为：-117.00663919553953\n",
      "当前迭代次数为：86, 当前奖励为：-135.61634542506619, 平均奖励为：-118.21744865291166\n",
      "当前迭代次数为：87, 当前奖励为：-115.97839753625021, 平均奖励为：-119.59570540365671\n",
      "当前迭代次数为：88, 当前奖励为：-157.35902938541398, 平均奖励为：-121.50483715059315\n",
      "当前迭代次数为：89, 当前奖励为：-84.91874545081271, 平均奖励为：-119.28874517303333\n",
      "当前迭代次数为：90, 当前奖励为：-137.8389175258944, 平均奖励为：-117.79779024821414\n",
      "当前迭代次数为：91, 当前奖励为：-96.88548443533074, 平均奖励为：-117.15095505770678\n",
      "当前迭代次数为：92, 当前奖励为：-95.02299254601671, 平均奖励为：-115.74929026802661\n",
      "当前迭代次数为：93, 当前奖励为：-96.1617891996651, 平均奖励为：-113.8575592945308\n",
      "当前迭代次数为：94, 当前奖励为：-56.70795508276841, 平均奖励为：-108.6870597243269\n",
      "当前迭代次数为：95, 当前奖励为：-54.42914478764875, 平均奖励为：-103.09188013748671\n",
      "当前迭代次数为：96, 当前奖励为：-100.45594043463608, 平均奖励为：-99.57583963844371\n"
     ]
    }
   ],
   "source": [
    "return_list = train(env_name, actor, critic, gamma, lmbda, eps, epochs,\n",
    "          optimizer_in, optimizer_var, optimizer_out, critic_optimizer, -100.,\n",
    "          critic_normalized=True, state_ub=state_ub, state_lb=state_lb, num_episodes=1000)"
   ],
   "metadata": {
    "collapsed": false,
    "ExecuteTime": {
     "end_time": "2023-10-15T07:28:31.026606689Z",
     "start_time": "2023-10-15T07:24:18.115628961Z"
    }
   },
   "id": "c4633bb881dc5dbe"
  },
  {
   "cell_type": "code",
   "execution_count": 8,
   "outputs": [],
   "source": [
    "import pandas as pd\n",
    "\n",
    "# 创建一个DataFrame对象\n",
    "df = pd.DataFrame({'return_list': return_list})\n",
    "\n",
    "# 将DataFrame保存到CSV文件\n",
    "df.to_csv('../../../../results/example/ppo/ppo_quafu/all_state_normalize/return_list_MC', index=False)  # 可以指定文件名和是否包括行索引\n",
    "actor.save_weights('../../../../weights/example/ppo/ppo_quafu/all_state_normalize/weights_MC_ACTOR_MC_amsgrad.h5')\n",
    "critic.save_weights('../../../../weights/example/ppo/ppo_quafu/all_state_normalize/weights_MC_CRITIC_MC_amsgrad.h5')"
   ],
   "metadata": {
    "collapsed": false,
    "ExecuteTime": {
     "end_time": "2023-10-15T08:22:54.579125006Z",
     "start_time": "2023-10-15T08:22:54.533288296Z"
    }
   },
   "id": "5177d9af8d884e40"
  },
  {
   "cell_type": "code",
   "execution_count": 3,
   "outputs": [
    {
     "data": {
      "text/plain": "<Figure size 1000x500 with 1 Axes>",
      "image/png": "[encoded data removed]"
     },
     "metadata": {},
     "output_type": "display_data"
    }
   ],
   "source": [
    "from matplotlib import pyplot as plt\n",
    "\n",
    "plt.figure(figsize=(10,5))\n",
    "plt.plot(return_list)\n",
    "plt.xlabel('Epsiode')\n",
    "plt.ylabel('Collected rewards')\n",
    "plt.show()"
   ],
   "metadata": {
    "collapsed": false,
    "ExecuteTime": {
     "end_time": "2023-10-15T10:50:17.426830555Z",
     "start_time": "2023-10-15T10:50:17.125848968Z"
    }
   },
   "id": "c4e90c214f5b1d06"
  },
  {
   "cell_type": "code",
   "execution_count": null,
   "outputs": [],
   "source": [],
   "metadata": {
    "collapsed": false
   },
   "id": "1828e2ce3c310a14"
  }
 ],
 "metadata": {
  "kernelspec": {
   "display_name": "Python 3",
   "language": "python",
   "name": "python3"
  },
  "language_info": {
   "codemirror_mode": {
    "name": "ipython",
    "version": 2
   },
   "file_extension": ".py",
   "mimetype": "text/x-python",
   "name": "python",
   "nbconvert_exporter": "python",
   "pygments_lexer": "ipython2",
   "version": "2.7.6"
  }
 },
 "nbformat": 4,
 "nbformat_minor": 5
}
