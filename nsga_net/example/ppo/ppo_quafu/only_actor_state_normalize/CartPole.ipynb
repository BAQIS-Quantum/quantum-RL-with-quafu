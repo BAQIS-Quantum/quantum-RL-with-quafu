{
 "cells": [
  {
   "cell_type": "code",
   "execution_count": 1,
   "outputs": [
    {
     "name": "stderr",
     "output_type": "stream",
     "text": [
      "2023-10-16 19:11:26.839862: I tensorflow/stream_executor/cuda/cuda_gpu_executor.cc:939] successful NUMA node read from SysFS had negative value (-1), but there must be at least one NUMA node, so returning NUMA node zero\n",
      "2023-10-16 19:11:26.845775: I tensorflow/stream_executor/cuda/cuda_gpu_executor.cc:939] successful NUMA node read from SysFS had negative value (-1), but there must be at least one NUMA node, so returning NUMA node zero\n",
      "2023-10-16 19:11:26.845911: I tensorflow/stream_executor/cuda/cuda_gpu_executor.cc:939] successful NUMA node read from SysFS had negative value (-1), but there must be at least one NUMA node, so returning NUMA node zero\n"
     ]
    }
   ],
   "source": [
    "import tensorflow as tf\n",
    "\n",
    "using_gpu_index = 0 # 使用的 GPU 号码\n",
    "gpu_list = tf.config.experimental.list_physical_devices('GPU')\n",
    "tf.config.experimental.set_virtual_device_configuration(\n",
    "        gpu_list[using_gpu_index],\n",
    "        [tf.config.experimental.VirtualDeviceConfiguration(memory_limit=1024 * 4.75)]\n",
    "    )\n",
    "\n",
    "from quafu import User\n",
    "\n",
    "# user = User(\n",
    "#     \"YOU API\")\n",
    "# user.save_apitoken()"
   ],
   "metadata": {
    "collapsed": false,
    "ExecuteTime": {
     "end_time": "2023-10-16T11:11:27.259859598Z",
     "start_time": "2023-10-16T11:11:25.291997316Z"
    }
   },
   "id": "ba80ed799d7f7194"
  },
  {
   "cell_type": "code",
   "execution_count": 2,
   "id": "initial_id",
   "metadata": {
    "collapsed": true,
    "ExecuteTime": {
     "end_time": "2023-10-16T11:11:29.827034038Z",
     "start_time": "2023-10-16T11:11:27.261926698Z"
    }
   },
   "outputs": [
    {
     "name": "stderr",
     "output_type": "stream",
     "text": [
      "2023-10-16 19:11:28.533283: I tensorflow/core/platform/cpu_feature_guard.cc:151] This TensorFlow binary is optimized with oneAPI Deep Neural Network Library (oneDNN) to use the following CPU instructions in performance-critical operations:  AVX2 FMA\n",
      "To enable them in other operations, rebuild TensorFlow with the appropriate compiler flags.\n",
      "2023-10-16 19:11:28.534352: I tensorflow/stream_executor/cuda/cuda_gpu_executor.cc:939] successful NUMA node read from SysFS had negative value (-1), but there must be at least one NUMA node, so returning NUMA node zero\n",
      "2023-10-16 19:11:28.534483: I tensorflow/stream_executor/cuda/cuda_gpu_executor.cc:939] successful NUMA node read from SysFS had negative value (-1), but there must be at least one NUMA node, so returning NUMA node zero\n",
      "2023-10-16 19:11:28.534543: I tensorflow/stream_executor/cuda/cuda_gpu_executor.cc:939] successful NUMA node read from SysFS had negative value (-1), but there must be at least one NUMA node, so returning NUMA node zero\n",
      "2023-10-16 19:11:28.918359: I tensorflow/stream_executor/cuda/cuda_gpu_executor.cc:939] successful NUMA node read from SysFS had negative value (-1), but there must be at least one NUMA node, so returning NUMA node zero\n",
      "2023-10-16 19:11:28.918513: I tensorflow/stream_executor/cuda/cuda_gpu_executor.cc:939] successful NUMA node read from SysFS had negative value (-1), but there must be at least one NUMA node, so returning NUMA node zero\n",
      "2023-10-16 19:11:28.918608: I tensorflow/stream_executor/cuda/cuda_gpu_executor.cc:939] successful NUMA node read from SysFS had negative value (-1), but there must be at least one NUMA node, so returning NUMA node zero\n",
      "2023-10-16 19:11:28.918678: I tensorflow/core/common_runtime/gpu/gpu_device.cc:1525] Created device /job:localhost/replica:0/task:0/device:GPU:0 with 4864 MB memory:  -> device: 0, name: NVIDIA GeForce RTX 2080 Ti, pci bus id: 0000:01:00.0, compute capability: 7.5\n"
     ]
    },
    {
     "name": "stdout",
     "output_type": "stream",
     "text": [
      "CartPole-v1\n"
     ]
    }
   ],
   "source": [
    "import cirq\n",
    "import models.quantum_genotypes as genotypes\n",
    "\n",
    "from models.quantum_models import generate_model_policy\n",
    "from functools import reduce\n",
    "\n",
    "env_name = \"CartPole-v1\"\n",
    "qubits = cirq.GridQubit.rect(1, 4)\n",
    "genotype = genotypes.ORI_TYPE_CP\n",
    "n_actions = 2  # Number of actions in CartPole\n",
    "\n",
    "ops = [cirq.Z(q) for q in qubits]\n",
    "observables = [reduce((lambda x, y: x * y), ops)]  # Z_0*Z_1*Z_2*Z_3\n",
    "# generate_model_policy(qubits, genotype, n_actions, beta, observables, env):\n",
    "model = generate_model_policy(qubits, genotype, n_actions, 1., observables, env_name, using_H=True)"
   ]
  },
  {
   "cell_type": "code",
   "execution_count": 3,
   "outputs": [],
   "source": [
    "import gym\n",
    "import tensorflow as tf\n",
    "from tensorflow.keras.layers import Dense\n",
    "from tensorflow.keras.models import Sequential\n",
    "from tensorflow.keras.optimizers import Adam\n",
    "import tensorflow_quantum as tfq\n",
    "import cirq, sympy\n",
    "from functools import reduce\n",
    "import numpy as np\n",
    "class ValueNet(tf.keras.Model):\n",
    "    \"\"\"\n",
    "    价值网络\n",
    "    \"\"\"\n",
    "\n",
    "    def __init__(self, hidden_dim):\n",
    "        super().__init__()\n",
    "        self.model = Sequential(\n",
    "            [\n",
    "                Dense(units=hidden_dim, activation=tf.nn.tanh),\n",
    "                Dense(units=hidden_dim, activation=tf.nn.tanh),\n",
    "                Dense(units=1),\n",
    "            ]\n",
    "        )\n",
    "        pass\n",
    "\n",
    "    def call(self, inputs):\n",
    "        return self.model(inputs)\n",
    "        pass"
   ],
   "metadata": {
    "collapsed": false,
    "ExecuteTime": {
     "end_time": "2023-10-16T11:11:29.853480246Z",
     "start_time": "2023-10-16T11:11:29.826691361Z"
    }
   },
   "id": "5a10670f40b1526f"
  },
  {
   "cell_type": "code",
   "execution_count": 4,
   "outputs": [
    {
     "data": {
      "text/plain": "<IPython.core.display.HTML object>",
      "text/html": "<pre>(0, 0): ───H───Rx(theta0)───Ry(theta1)────Rz(theta2)────@───────────Rx(x2_0)───Rx(theta12)───Ry(theta13)───Rz(theta14)───@───────────Rx(x5_0)───Rx(theta24)───Ry(theta25)───Rz(theta26)───@───────────Rx(x8_0)───Rx(theta36)───Ry(theta37)───Rz(theta38)───@───────────Rx(x11_0)───Rx(theta48)───Ry(theta49)───Rz(theta50)───@───────────Rx(x14_0)───Rx(theta60)───Ry(theta61)───Rz(theta62)───\n                                                        │                                                                │                                                                │                                                                │                                                                 │\n(0, 1): ───H───Rx(theta3)───Ry(theta4)────Rz(theta5)────@───@───────Rx(x2_1)───Rx(theta15)───Ry(theta16)───Rz(theta17)───@───@───────Rx(x5_1)───Rx(theta27)───Ry(theta28)───Rz(theta29)───@───@───────Rx(x8_1)───Rx(theta39)───Ry(theta40)───Rz(theta41)───@───@───────Rx(x11_1)───Rx(theta51)───Ry(theta52)───Rz(theta53)───@───@───────Rx(x14_1)───Rx(theta63)───Ry(theta64)───Rz(theta65)───\n                                                            │                                                                │                                                                │                                                                │                                                                 │\n(0, 2): ───H───Rx(theta6)───Ry(theta7)────Rz(theta8)────────@───@───Rx(x2_2)───Rx(theta18)───Ry(theta19)───Rz(theta20)───────@───@───Rx(x5_2)───Rx(theta30)───Ry(theta31)───Rz(theta32)───────@───@───Rx(x8_2)───Rx(theta42)───Ry(theta43)───Rz(theta44)───────@───@───Rx(x11_2)───Rx(theta54)───Ry(theta55)───Rz(theta56)───────@───@───Rx(x14_2)───Rx(theta66)───Ry(theta67)───Rz(theta68)───\n                                                                │                                                                │                                                                │                                                                │                                                                 │\n(0, 3): ───H───Rx(theta9)───Ry(theta10)───Rz(theta11)───────────@───Rx(x2_3)───Rx(theta21)───Ry(theta22)───Rz(theta23)───────────@───Rx(x5_3)───Rx(theta33)───Ry(theta34)───Rz(theta35)───────────@───Rx(x8_3)───Rx(theta45)───Ry(theta46)───Rz(theta47)───────────@───Rx(x11_3)───Rx(theta57)───Ry(theta58)───Rz(theta59)───────────@───Rx(x14_3)───Rx(theta69)───Ry(theta70)───Rz(theta71)───</pre>"
     },
     "metadata": {},
     "output_type": "display_data"
    }
   ],
   "source": [
    "from IPython.core.display import HTML\n",
    "from models.quantum_models import generate_circuit\n",
    "\n",
    "circuit, params, inputs = generate_circuit(qubits, genotype, using_H=True)\n",
    "display(HTML(f\"<pre>{circuit}</pre>\"))"
   ],
   "metadata": {
    "collapsed": false,
    "ExecuteTime": {
     "end_time": "2023-10-16T11:11:29.907271363Z",
     "start_time": "2023-10-16T11:11:29.857176068Z"
    }
   },
   "id": "cbfe4369fbd95b35"
  },
  {
   "cell_type": "code",
   "execution_count": 5,
   "outputs": [],
   "source": [
    "env_name = \"CartPole-v1\"\n",
    "env = gym.make(env_name)\n",
    "state_dim = env.observation_space.shape[0]\n",
    "action_dim = env.action_space.n\n",
    "hidden_dim = 64\n",
    "\n",
    "# device = torch.device(\"cpu\")\n",
    "\n",
    "actor = model\n",
    "\n",
    "critic = ValueNet(hidden_dim=hidden_dim)  # 价值网络\n",
    "# 广义优势估计（Generalized Advantage Estimation，GAE）\n",
    "# gamma 是GAE的超参数\n",
    "gamma = 0.98\n",
    "\n",
    "# lmbda 也用来计算广义优势估\n",
    "lmbda = 0.95\n",
    "\n",
    "epochs = 10  # 一条序列的数据用来训练轮数\n",
    "eps = 0.2  # 裁剪超参数\n",
    "# actor_lr = 1e-3\n",
    "# critic_lr = 1e-2\n",
    "critic_lr = 1e-1\n",
    "\n",
    "# actor_optimizer = Adam(learning_rate=actor_lr)\n",
    "\n",
    "optimizer_in = Adam(learning_rate=0.1, amsgrad=True)\n",
    "optimizer_var = Adam(learning_rate=0.01, amsgrad=True)\n",
    "optimizer_out = Adam(learning_rate=0.1, amsgrad=True)\n",
    "\n",
    "# Assign the model parameters to each optimizer\n",
    "w_in, w_var, w_out = 1, 0, 2\n",
    "\n",
    "# critic_optimizer = Adam(learning_rate=critic_lr)\n",
    "critic_optimizer = Adam(learning_rate=critic_lr, amsgrad=True)"
   ],
   "metadata": {
    "collapsed": false,
    "ExecuteTime": {
     "end_time": "2023-10-16T11:11:31.235717710Z",
     "start_time": "2023-10-16T11:11:31.217846101Z"
    }
   },
   "id": "d36e836b73f374f"
  },
  {
   "cell_type": "code",
   "execution_count": 6,
   "outputs": [],
   "source": [
    "# import numpy as np\n",
    "# 计算优势函数\n",
    "\n",
    "\n",
    "def compute_advantage(gamma, lmbda, td_delta):\n",
    "    td_delta = td_delta.numpy()\n",
    "    advantage_list = []\n",
    "    advantage = 0.0\n",
    "\n",
    "    for delta in td_delta[::-1]:\n",
    "        advantage = gamma * lmbda * advantage + delta\n",
    "        advantage_list.append(advantage)\n",
    "\n",
    "    advantage_list.reverse()\n",
    "    advantage_list = np.array(advantage_list)\n",
    "    advantage_list = (advantage_list - np.mean(advantage_list)) / (\n",
    "        np.std(advantage_list) + 1e-8\n",
    "    )  # 标准化\n",
    "    return tf.convert_to_tensor(advantage_list, dtype=tf.float32)"
   ],
   "metadata": {
    "collapsed": false,
    "ExecuteTime": {
     "end_time": "2023-10-16T11:11:32.162738266Z",
     "start_time": "2023-10-16T11:11:32.154242183Z"
    }
   },
   "id": "a0cc45692e4bbfd5"
  },
  {
   "cell_type": "code",
   "execution_count": 7,
   "outputs": [],
   "source": [
    "from misc.utils import get_quafu_exp_\n",
    "\n",
    "\n",
    "def compute_by_quafu(states, actor):\n",
    "    # 得到actor中的参数\n",
    "    theta, lamda = actor.get_layer('nsganet_PQC').get_weights()\n",
    "    out = []\n",
    "    for state in states:\n",
    "        circuit, _, _ = generate_circuit(qubits, genotype, theta[0], lamda, state, using_H=True)\n",
    "        taskid, ob = get_quafu_exp_(circuit, n_qubits=4, backend_quafu='ScQ-P136', shots=1000)\n",
    "        print(' ')\n",
    "\n",
    "\n",
    "        out.append(ob)\n",
    "\n",
    "\n",
    "    # 得到后面的层\n",
    "    obs_policy = actor.get_layer(\"observables-policy\")\n",
    "    return obs_policy(tf.convert_to_tensor(out))"
   ],
   "metadata": {
    "collapsed": false,
    "ExecuteTime": {
     "end_time": "2023-10-16T11:11:32.696055916Z",
     "start_time": "2023-10-16T11:11:32.688224272Z"
    }
   },
   "id": "f5b1289a62b5a6f8"
  },
  {
   "cell_type": "code",
   "execution_count": 8,
   "outputs": [],
   "source": [
    "# import pandas as pd\n",
    "# \n",
    "# df = pd.read_csv('./return_list_actor_normalize4.csv')\n",
    "# \n",
    "# # 提取DataFrame中的数据列并将其转换为列表\n",
    "# my_list = df['episode_reward_history'].tolist()\n",
    "# return_list = my_list"
   ],
   "metadata": {
    "collapsed": false,
    "ExecuteTime": {
     "end_time": "2023-10-16T11:11:33.280100850Z",
     "start_time": "2023-10-16T11:11:33.270860001Z"
    }
   },
   "id": "e16a573409ff4d02"
  },
  {
   "cell_type": "code",
   "execution_count": null,
   "outputs": [],
   "source": [
    "# return_list"
   ],
   "metadata": {
    "collapsed": false
   },
   "id": "c8539901286f7ba9"
  },
  {
   "cell_type": "code",
   "execution_count": 10,
   "outputs": [
    {
     "data": {
      "text/plain": "<tf.Tensor: shape=(1, 1), dtype=float32, numpy=array([[-0.45291728]], dtype=float32)>"
     },
     "execution_count": 10,
     "metadata": {},
     "output_type": "execute_result"
    }
   ],
   "source": [
    "# critic(tf.convert_to_tensor([[1., 1., 1., 1.]]))"
   ],
   "metadata": {
    "collapsed": false,
    "ExecuteTime": {
     "end_time": "2023-10-16T11:11:35.083749258Z",
     "start_time": "2023-10-16T11:11:34.751255116Z"
    }
   },
   "id": "7dfda3ef6155d38c"
  },
  {
   "cell_type": "code",
   "execution_count": 11,
   "outputs": [],
   "source": [
    "# actor.load_weights('./weights_CP_ACTOR_NORMALIZE_ACTOR4.h5')\n",
    "# critic.load_weights('./weights_CP_ACTOR_NORMALIZE_CRITIC4.h5')"
   ],
   "metadata": {
    "collapsed": false,
    "ExecuteTime": {
     "end_time": "2023-10-16T11:11:35.946190471Z",
     "start_time": "2023-10-16T11:11:35.931160068Z"
    }
   },
   "id": "54a29f5a2f853f05"
  },
  {
   "cell_type": "code",
   "execution_count": 12,
   "outputs": [],
   "source": [
    "def normalized_state(s, ub, lb):\n",
    "    return -1 + 2 * (s - lb) / (ub - lb)"
   ],
   "metadata": {
    "collapsed": false,
    "ExecuteTime": {
     "end_time": "2023-10-16T11:11:36.820982099Z",
     "start_time": "2023-10-16T11:11:36.810276112Z"
    }
   },
   "id": "c4e4c6125fbc7e39"
  },
  {
   "cell_type": "code",
   "execution_count": null,
   "outputs": [],
   "source": [
    "num_episodes = 1000\n",
    "return_list = []\n",
    "\n",
    "state_bounds = np.array([2.4, 2.5, 0.21, 2.5])\n",
    "state_ub = state_bounds\n",
    "state_lb = -1 * state_bounds\n",
    "env = gym.make(env_name)\n",
    "for cur_episode in range(num_episodes):\n",
    "    # sample_one_episode_history\n",
    "    episode_return = 0\n",
    "    history_dict = {\n",
    "        \"states\": [],\n",
    "        \"norm_state\": [],\n",
    "        \"actions\": [],\n",
    "        \"next_states\": [],\n",
    "        \"rewards\": [],\n",
    "        \"dones\": [],\n",
    "    }\n",
    "    state, _ = env.reset()  # gym=0.26.x\n",
    "    # state = state / state_bounds  #\n",
    "    norm_state = normalized_state(state, state_ub, state_lb)  #\n",
    "    done = False\n",
    "    while not done:\n",
    "        # actor根据策略采取行动\n",
    "        # probs = actor(tf.convert_to_tensor([state]))\n",
    "        probs = compute_by_quafu(tf.convert_to_tensor([norm_state]), actor)\n",
    "        probs = probs[0].numpy()\n",
    "        action = np.random.choice(range(len(probs)), p=probs)\n",
    "        # 记录\n",
    "        next_state, reward, terminated, truncated, _ = env.step(action)\n",
    "        done = terminated or truncated  # gym=0.26.x\n",
    "\n",
    "        # next_state = next_state / state_bounds  #\n",
    "\n",
    "        history_dict[\"states\"].append(state)\n",
    "        history_dict[\"norm_state\"].append(norm_state)\n",
    "        history_dict[\"actions\"].append(action)\n",
    "        history_dict[\"next_states\"].append(next_state)\n",
    "        history_dict[\"rewards\"].append([reward])\n",
    "        history_dict[\"dones\"].append([done])\n",
    "        state = next_state\n",
    "        norm_state = normalized_state(next_state, state_ub, state_lb)  #\n",
    "        episode_return += reward\n",
    "\n",
    "    return_list.append(episode_return)\n",
    "    avg = np.mean(return_list[-10:])\n",
    "    print(f\"当前迭代次数为：{cur_episode}, 当前奖励为：{episode_return}, 平均奖励为：{avg}\")\n",
    "    if episode_return >= 100:\n",
    "        break\n",
    "\n",
    "    # update_in_one_episode\n",
    "    \n",
    "    # prepare data\n",
    "    states = tf.convert_to_tensor(history_dict[\"states\"], dtype=tf.float32)\n",
    "    norm_states = tf.convert_to_tensor(history_dict[\"norm_state\"], dtype=tf.float32)\n",
    "    actions = tf.convert_to_tensor(history_dict[\"actions\"], dtype=tf.int32)\n",
    "    rewards = tf.convert_to_tensor(history_dict[\"rewards\"], dtype=tf.float32)\n",
    "    next_states = tf.convert_to_tensor(\n",
    "        history_dict[\"next_states\"], dtype=tf.float32)\n",
    "    dones = tf.convert_to_tensor(history_dict[\"dones\"], dtype=tf.float32)\n",
    "    td_target = rewards + gamma * critic(next_states) * (1 - dones)\n",
    "    td_delta = td_target - critic(states)\n",
    "    advantage = compute_advantage(gamma, lmbda, td_delta)  # 广义优势函数\n",
    "    old_log_probs = tf.math.log(\n",
    "        tf.expand_dims(\n",
    "            tf.boolean_mask(\n",
    "                # actor(states),\n",
    "                compute_by_quafu(norm_states, actor),\n",
    "                tf.one_hot(actions, depth=action_dim, dtype=tf.int32),\n",
    "            ),\n",
    "            axis=1,\n",
    "        )\n",
    "    )\n",
    "\n",
    "    for _ in range(epochs):\n",
    "        \n",
    "    \n",
    "        probs = actor(norm_states)\n",
    "        probs_ = compute_by_quafu(norm_states, actor)\n",
    "        delta = tf.constant(probs_ - probs)\n",
    "        # probs = probs + delta\n",
    "        \n",
    "        # update policy_net\n",
    "        with tf.GradientTape() as tape_policy:\n",
    "            \n",
    "            probs = actor(norm_states)\n",
    "            \n",
    "            probs = probs + delta\n",
    "            log_probs = tf.math.log(\n",
    "                tf.expand_dims(\n",
    "                    tf.boolean_mask(\n",
    "                        # actor(states),\n",
    "                        probs,\n",
    "                        tf.one_hot(actions, depth=action_dim, dtype=tf.int32),\n",
    "                    ),\n",
    "                    axis=1,\n",
    "                )\n",
    "            )\n",
    "            ratio = tf.math.exp(log_probs - old_log_probs)  # exp(ln a - ln b) = a/b\n",
    "            surr1 = ratio * advantage\n",
    "            surr2 = tf.clip_by_value(ratio, 1 - eps, 1 + eps) * advantage  # 截断\n",
    "            actor_loss = -tf.reduce_mean(tf.minimum(surr1, surr2))  # PPO损失函数\n",
    "            policy_gradients = tape_policy.gradient(\n",
    "                actor_loss, actor.trainable_variables\n",
    "            )\n",
    "        for optimizer, w in zip([optimizer_in, optimizer_var, optimizer_out], [w_in, w_var, w_out]):\n",
    "            optimizer.apply_gradients([(policy_gradients[w], actor.trainable_variables[w])])\n",
    "\n",
    "        # update value_net\n",
    "        with tf.GradientTape() as tape_value:\n",
    "            critic_loss = tf.reduce_mean(\n",
    "                tf.losses.mean_squared_error(critic(states), td_target)\n",
    "            )\n",
    "            value_gradients = tape_value.gradient(\n",
    "                critic_loss, critic.trainable_variables\n",
    "            )\n",
    "\n",
    "        critic_optimizer.apply_gradients(\n",
    "            grads_and_vars=zip(value_gradients, critic.trainable_variables)\n",
    "        )"
   ],
   "metadata": {
    "collapsed": false
   },
   "id": "21e7ed87f258e401"
  },
  {
   "cell_type": "code",
   "execution_count": 33,
   "outputs": [],
   "source": [
    "import pandas as pd\n",
    "\n",
    "# 创建一个DataFrame对象\n",
    "df = pd.DataFrame({'episode_reward_history': return_list})\n",
    "\n",
    "# 将DataFrame保存到CSV文件\n",
    "df.to_csv('./return_list_actor_normalize4.csv', index=False)  # 可以指定文件名和是否包括行索引\n",
    "actor.save_weights('./weights_CP_ACTOR_NORMALIZE_ACTOR4.h5')\n",
    "critic.save_weights('./weights_CP_ACTOR_NORMALIZE_CRITIC4.h5')"
   ],
   "metadata": {
    "collapsed": false,
    "ExecuteTime": {
     "end_time": "2023-10-16T10:58:06.378755086Z",
     "start_time": "2023-10-16T10:58:06.365661118Z"
    }
   },
   "id": "8a58b9064ece7795"
  },
  {
   "cell_type": "code",
   "execution_count": 14,
   "outputs": [
    {
     "data": {
      "text/plain": "<Figure size 1000x500 with 1 Axes>",
      "image/png": "[encoded data removed]"
     },
     "metadata": {},
     "output_type": "display_data"
    }
   ],
   "source": [
    "from matplotlib import pyplot as plt\n",
    "\n",
    "# validate\n",
    "plt.figure(figsize=(10,5))\n",
    "plt.plot(return_list)\n",
    "plt.xlabel('Epsiode')\n",
    "plt.ylabel('Collected rewards')\n",
    "plt.show()"
   ],
   "metadata": {
    "collapsed": false,
    "ExecuteTime": {
     "end_time": "2023-10-16T11:11:51.963045242Z",
     "start_time": "2023-10-16T11:11:51.863723461Z"
    }
   },
   "id": "4099533779a928a4"
  },
  {
   "cell_type": "code",
   "execution_count": null,
   "outputs": [],
   "source": [],
   "metadata": {
    "collapsed": false
   },
   "id": "ea9c31bfb8605052"
  }
 ],
 "metadata": {
  "kernelspec": {
   "display_name": "Python 3",
   "language": "python",
   "name": "python3"
  },
  "language_info": {
   "codemirror_mode": {
    "name": "ipython",
    "version": 2
   },
   "file_extension": ".py",
   "mimetype": "text/x-python",
   "name": "python",
   "nbconvert_exporter": "python",
   "pygments_lexer": "ipython2",
   "version": "2.7.6"
  }
 },
 "nbformat": 4,
 "nbformat_minor": 5
}
