{
 "cells": [
  {
   "cell_type": "code",
   "execution_count": 1,
   "id": "initial_id",
   "metadata": {
    "collapsed": true,
    "ExecuteTime": {
     "end_time": "2023-10-16T15:52:15.183306401Z",
     "start_time": "2023-10-16T15:52:14.108388715Z"
    }
   },
   "outputs": [
    {
     "name": "stderr",
     "output_type": "stream",
     "text": [
      "2023-10-16 23:52:15.138787: I tensorflow/stream_executor/cuda/cuda_gpu_executor.cc:939] successful NUMA node read from SysFS had negative value (-1), but there must be at least one NUMA node, so returning NUMA node zero\n",
      "2023-10-16 23:52:15.145774: I tensorflow/stream_executor/cuda/cuda_gpu_executor.cc:939] successful NUMA node read from SysFS had negative value (-1), but there must be at least one NUMA node, so returning NUMA node zero\n",
      "2023-10-16 23:52:15.145981: I tensorflow/stream_executor/cuda/cuda_gpu_executor.cc:939] successful NUMA node read from SysFS had negative value (-1), but there must be at least one NUMA node, so returning NUMA node zero\n"
     ]
    }
   ],
   "source": [
    "import tensorflow as tf\n",
    "\n",
    "using_gpu_index = 0 # 使用的 GPU 号码\n",
    "gpu_list = tf.config.experimental.list_physical_devices('GPU')\n",
    "tf.config.experimental.set_virtual_device_configuration(\n",
    "        gpu_list[using_gpu_index],\n",
    "        [tf.config.experimental.VirtualDeviceConfiguration(memory_limit=1024 * 4.75)]\n",
    "    )\n"
   ]
  },
  {
   "cell_type": "code",
   "execution_count": 2,
   "outputs": [
    {
     "name": "stderr",
     "output_type": "stream",
     "text": [
      "2023-10-16 23:52:15.960867: I tensorflow/core/platform/cpu_feature_guard.cc:151] This TensorFlow binary is optimized with oneAPI Deep Neural Network Library (oneDNN) to use the following CPU instructions in performance-critical operations:  AVX2 FMA\n",
      "To enable them in other operations, rebuild TensorFlow with the appropriate compiler flags.\n",
      "2023-10-16 23:52:15.961947: I tensorflow/stream_executor/cuda/cuda_gpu_executor.cc:939] successful NUMA node read from SysFS had negative value (-1), but there must be at least one NUMA node, so returning NUMA node zero\n",
      "2023-10-16 23:52:15.962192: I tensorflow/stream_executor/cuda/cuda_gpu_executor.cc:939] successful NUMA node read from SysFS had negative value (-1), but there must be at least one NUMA node, so returning NUMA node zero\n",
      "2023-10-16 23:52:15.962314: I tensorflow/stream_executor/cuda/cuda_gpu_executor.cc:939] successful NUMA node read from SysFS had negative value (-1), but there must be at least one NUMA node, so returning NUMA node zero\n",
      "2023-10-16 23:52:16.398190: I tensorflow/stream_executor/cuda/cuda_gpu_executor.cc:939] successful NUMA node read from SysFS had negative value (-1), but there must be at least one NUMA node, so returning NUMA node zero\n",
      "2023-10-16 23:52:16.398343: I tensorflow/stream_executor/cuda/cuda_gpu_executor.cc:939] successful NUMA node read from SysFS had negative value (-1), but there must be at least one NUMA node, so returning NUMA node zero\n",
      "2023-10-16 23:52:16.398411: I tensorflow/stream_executor/cuda/cuda_gpu_executor.cc:939] successful NUMA node read from SysFS had negative value (-1), but there must be at least one NUMA node, so returning NUMA node zero\n",
      "2023-10-16 23:52:16.398485: I tensorflow/core/common_runtime/gpu/gpu_device.cc:1525] Created device /job:localhost/replica:0/task:0/device:GPU:0 with 4864 MB memory:  -> device: 0, name: NVIDIA GeForce RTX 2080 Ti, pci bus id: 0000:01:00.0, compute capability: 7.5\n"
     ]
    },
    {
     "name": "stdout",
     "output_type": "stream",
     "text": [
      "Acrobot-v1\n"
     ]
    }
   ],
   "source": [
    "from models.quantum_models import generate_model_policy\n",
    "import cirq\n",
    "\n",
    "import models.quantum_genotypes as genotypes\n",
    "env_name = \"Acrobot-v1\"\n",
    "\n",
    "genotype = genotypes.ORI_TYPE_AB\n",
    "\n",
    "n_qubits = 6 # Dimension of the state vectors in CartPole\n",
    "# n_layers = 5 # Number of layers in the PQC\n",
    "n_actions = 3 # Number of actions in CartPole\n",
    "\n",
    "qubits = cirq.GridQubit.rect(1, n_qubits)\n",
    "observables = [cirq.Z(qubits[0]), cirq.Z(qubits[1]), cirq.Z(qubits[2]), cirq.Z(qubits[3]), cirq.Z(qubits[4]), cirq.Z(qubits[5])] # Z_0*Z_1*Z_2*Z_3\n",
    "\n",
    "\n",
    "# generate_model_policy(qubits, genotype, n_actions, beta, observables, env):\n",
    "model = generate_model_policy(qubits, genotype, n_actions, 1., observables, env_name)"
   ],
   "metadata": {
    "collapsed": false,
    "ExecuteTime": {
     "end_time": "2023-10-16T15:52:17.280119786Z",
     "start_time": "2023-10-16T15:52:15.184462812Z"
    }
   },
   "id": "d1158f977882b755"
  },
  {
   "cell_type": "code",
   "execution_count": 3,
   "outputs": [
    {
     "data": {
      "text/plain": "<IPython.core.display.HTML object>",
      "text/html": "<pre>(0, 0): ───Rx(theta0)────Ry(theta1)────Rz(theta2)────@───────────────────Rx(x2_0)───Rx(theta18)───Ry(theta19)───Rz(theta20)───@───────────────────Rx(x5_0)───Rx(theta36)───Ry(theta37)───Rz(theta38)───@───────────────────Rx(x8_0)───Rx(theta54)───Ry(theta55)───Rz(theta56)───@───────────────────Rx(x11_0)───Rx(theta72)───Ry(theta73)───Rz(theta74)───@───────────────────Rx(x14_0)───Rx(theta90)────Ry(theta91)────Rz(theta92)────\n                                                     │                                                                        │                                                                        │                                                                        │                                                                         │\n(0, 1): ───Rx(theta3)────Ry(theta4)────Rz(theta5)────@───@───────────────Rx(x2_1)───Rx(theta21)───Ry(theta22)───Rz(theta23)───@───@───────────────Rx(x5_1)───Rx(theta39)───Ry(theta40)───Rz(theta41)───@───@───────────────Rx(x8_1)───Rx(theta57)───Ry(theta58)───Rz(theta59)───@───@───────────────Rx(x11_1)───Rx(theta75)───Ry(theta76)───Rz(theta77)───@───@───────────────Rx(x14_1)───Rx(theta93)────Ry(theta94)────Rz(theta95)────\n                                                         │                                                                        │                                                                        │                                                                        │                                                                         │\n(0, 2): ───Rx(theta6)────Ry(theta7)────Rz(theta8)────────@───@───────────Rx(x2_2)───Rx(theta24)───Ry(theta25)───Rz(theta26)───────@───@───────────Rx(x5_2)───Rx(theta42)───Ry(theta43)───Rz(theta44)───────@───@───────────Rx(x8_2)───Rx(theta60)───Ry(theta61)───Rz(theta62)───────@───@───────────Rx(x11_2)───Rx(theta78)───Ry(theta79)───Rz(theta80)───────@───@───────────Rx(x14_2)───Rx(theta96)────Ry(theta97)────Rz(theta98)────\n                                                             │                                                                        │                                                                        │                                                                        │                                                                         │\n(0, 3): ───Rx(theta9)────Ry(theta10)───Rz(theta11)───────────@───@───────Rx(x2_3)───Rx(theta27)───Ry(theta28)───Rz(theta29)───────────@───@───────Rx(x5_3)───Rx(theta45)───Ry(theta46)───Rz(theta47)───────────@───@───────Rx(x8_3)───Rx(theta63)───Ry(theta64)───Rz(theta65)───────────@───@───────Rx(x11_3)───Rx(theta81)───Ry(theta82)───Rz(theta83)───────────@───@───────Rx(x14_3)───Rx(theta99)────Ry(theta100)───Rz(theta101)───\n                                                                 │                                                                        │                                                                        │                                                                        │                                                                         │\n(0, 4): ───Rx(theta12)───Ry(theta13)───Rz(theta14)───────────────@───@───Rx(x2_4)───Rx(theta30)───Ry(theta31)───Rz(theta32)───────────────@───@───Rx(x5_4)───Rx(theta48)───Ry(theta49)───Rz(theta50)───────────────@───@───Rx(x8_4)───Rx(theta66)───Ry(theta67)───Rz(theta68)───────────────@───@───Rx(x11_4)───Rx(theta84)───Ry(theta85)───Rz(theta86)───────────────@───@───Rx(x14_4)───Rx(theta102)───Ry(theta103)───Rz(theta104)───\n                                                                     │                                                                        │                                                                        │                                                                        │                                                                         │\n(0, 5): ───Rx(theta15)───Ry(theta16)───Rz(theta17)───────────────────@───Rx(x2_5)───Rx(theta33)───Ry(theta34)───Rz(theta35)───────────────────@───Rx(x5_5)───Rx(theta51)───Ry(theta52)───Rz(theta53)───────────────────@───Rx(x8_5)───Rx(theta69)───Ry(theta70)───Rz(theta71)───────────────────@───Rx(x11_5)───Rx(theta87)───Ry(theta88)───Rz(theta89)───────────────────@───Rx(x14_5)───Rx(theta105)───Ry(theta106)───Rz(theta107)───</pre>"
     },
     "metadata": {},
     "output_type": "display_data"
    }
   ],
   "source": [
    "from models.quantum_models import generate_circuit\n",
    "from IPython.display import display, HTML\n",
    "circuit, params, inputs = generate_circuit(qubits, genotype)\n",
    "display(HTML(f\"<pre>{circuit}</pre>\"))"
   ],
   "metadata": {
    "collapsed": false,
    "ExecuteTime": {
     "end_time": "2023-10-16T15:52:17.324373379Z",
     "start_time": "2023-10-16T15:52:17.284075722Z"
    }
   },
   "id": "fe1aec5ef8d8b86c"
  },
  {
   "cell_type": "code",
   "execution_count": 4,
   "outputs": [],
   "source": [
    "def normalized_state(s, ub, lb):\n",
    "    return -1 + 2 * (s - lb) / (ub - lb)"
   ],
   "metadata": {
    "collapsed": false,
    "ExecuteTime": {
     "end_time": "2023-10-16T15:52:17.328480245Z",
     "start_time": "2023-10-16T15:52:17.325414574Z"
    }
   },
   "id": "c8d5fb2ee38fa988"
  },
  {
   "cell_type": "code",
   "execution_count": 5,
   "outputs": [],
   "source": [
    "import gym\n",
    "from collections import defaultdict\n",
    "import tensorflow as tf\n",
    "import numpy as np\n",
    "\n",
    "\n",
    "def gather_episodes(state_ub, state_lb, n_actions, model, n_episodes, env_name):\n",
    "    \"\"\"Interact with environment in batched fashion.\"\"\"\n",
    "\n",
    "    trajectories = [defaultdict(list) for _ in range(n_episodes)]\n",
    "    envs = [gym.make(env_name) for _ in range(n_episodes)]\n",
    "\n",
    "    done = [False for _ in range(n_episodes)]\n",
    "    # states = [e.reset() for e in envs]\n",
    "    states = [e.reset()[0] for e in envs]\n",
    "\n",
    "\n",
    "    while not all(done):\n",
    "        unfinished_ids = [i for i in range(n_episodes) if not done[i]]\n",
    "        # normalized_states = [s / state_bounds for i, s in enumerate(states) if not done[i]]\n",
    "        normalized_states = [normalized_state(s, ub=state_ub, lb=state_lb) for i, s in enumerate(states) if not done[i]]\n",
    "\n",
    "        for i, state in zip(unfinished_ids, normalized_states):\n",
    "            trajectories[i]['states'].append(state)\n",
    "\n",
    "        # Compute policy for all unfinished envs in parallel\n",
    "        states = tf.convert_to_tensor(normalized_states)\n",
    "        action_probs = model([states])\n",
    "\n",
    "        # Store action and transition all environments to the next state\n",
    "        states = [None for i in range(n_episodes)]\n",
    "        for i, policy in zip(unfinished_ids, action_probs.numpy()):\n",
    "            action = np.random.choice(n_actions, p=policy)\n",
    "            # \n",
    "            states[i], reward, terminated, truncated, _ = envs[i].step(action)\n",
    "            done[i] = terminated or truncated\n",
    "            trajectories[i]['actions'].append(action)\n",
    "            trajectories[i]['rewards'].append(reward)\n",
    "\n",
    "    return trajectories"
   ],
   "metadata": {
    "collapsed": false,
    "ExecuteTime": {
     "end_time": "2023-10-16T15:52:17.351996099Z",
     "start_time": "2023-10-16T15:52:17.331863919Z"
    }
   },
   "id": "37f2768cf7cc5d82"
  },
  {
   "cell_type": "code",
   "execution_count": 6,
   "outputs": [],
   "source": [
    "def compute_returns(rewards_history, gamma):\n",
    "    \"\"\"Compute discounted returns with discount factor `gamma`.\"\"\"\n",
    "    returns = []\n",
    "    discounted_sum = 0\n",
    "    for r in rewards_history[::-1]:\n",
    "        discounted_sum = r + gamma * discounted_sum\n",
    "        returns.insert(0, discounted_sum)\n",
    "\n",
    "    # Normalize them for faster and more stable learning\n",
    "    returns = np.array(returns)\n",
    "    returns = (returns - np.mean(returns)) / (np.std(returns) + 1e-8)\n",
    "    returns = returns.tolist()\n",
    "\n",
    "    return returns"
   ],
   "metadata": {
    "collapsed": false,
    "ExecuteTime": {
     "end_time": "2023-10-16T15:52:17.391790561Z",
     "start_time": "2023-10-16T15:52:17.350378645Z"
    }
   },
   "id": "e97320b37052bfd2"
  },
  {
   "cell_type": "code",
   "execution_count": 7,
   "outputs": [],
   "source": [
    "state_bounds = np.array([1., 1., 1., 1., 12.567 , 28.274])\n",
    "state_ub = state_bounds\n",
    "state_lb = -1 * state_bounds"
   ],
   "metadata": {
    "collapsed": false,
    "ExecuteTime": {
     "end_time": "2023-10-16T15:52:17.392100634Z",
     "start_time": "2023-10-16T15:52:17.391705800Z"
    }
   },
   "id": "bfce3ea96b1f9c8d"
  },
  {
   "cell_type": "code",
   "execution_count": 8,
   "outputs": [],
   "source": [
    "gamma = 1\n",
    "batch_size = 10\n",
    "n_episodes = 2000\n",
    "optimizer_in = tf.keras.optimizers.Adam(learning_rate=0.1, amsgrad=True)\n",
    "optimizer_var = tf.keras.optimizers.Adam(learning_rate=0.01, amsgrad=True)\n",
    "optimizer_out = tf.keras.optimizers.Adam(learning_rate=0.1, amsgrad=True)\n",
    "\n",
    "# Assign the model parameters to each optimizer\n",
    "w_in, w_var, w_out = 1, 0, 2"
   ],
   "metadata": {
    "collapsed": false,
    "ExecuteTime": {
     "end_time": "2023-10-16T15:52:17.393115613Z",
     "start_time": "2023-10-16T15:52:17.391911359Z"
    }
   },
   "id": "20480b38f616eead"
  },
  {
   "cell_type": "code",
   "execution_count": 9,
   "outputs": [],
   "source": [
    "@tf.function\n",
    "def reinforce_update(states, actions, returns, model):\n",
    "    states = tf.convert_to_tensor(states)\n",
    "    actions = tf.convert_to_tensor(actions)\n",
    "    returns = tf.convert_to_tensor(returns)\n",
    "\n",
    "    with tf.GradientTape() as tape:\n",
    "        tape.watch(model.trainable_variables)\n",
    "        logits = model(states)\n",
    "        p_actions = tf.gather_nd(logits, actions)\n",
    "        log_probs = tf.math.log(p_actions)\n",
    "        loss = tf.math.reduce_sum(-log_probs * returns) / batch_size\n",
    "    grads = tape.gradient(loss, model.trainable_variables)\n",
    "    for optimizer, w in zip([optimizer_in, optimizer_var, optimizer_out], [w_in, w_var, w_out]):\n",
    "        optimizer.apply_gradients([(grads[w], model.trainable_variables[w])])"
   ],
   "metadata": {
    "collapsed": false,
    "ExecuteTime": {
     "end_time": "2023-10-16T15:52:17.393334984Z",
     "start_time": "2023-10-16T15:52:17.392056206Z"
    }
   },
   "id": "2a16464217e7f9f1"
  },
  {
   "cell_type": "code",
   "execution_count": 10,
   "outputs": [],
   "source": [
    "def features(episode):\n",
    "    obs = np.clip(episode['states'], -10, 10)  # 找出所有state \n",
    "    length = len(episode['states'])  # 长度\n",
    "    al = np.arange(length).reshape(-1, 1) / 100.0  # \n",
    "    return np.concatenate(\n",
    "        [obs, obs ** 2, al, al ** 2, al ** 3,\n",
    "         np.ones((length, 1))], axis=1)"
   ],
   "metadata": {
    "collapsed": false,
    "ExecuteTime": {
     "end_time": "2023-10-16T15:52:17.394256645Z",
     "start_time": "2023-10-16T15:52:17.392181912Z"
    }
   },
   "id": "18763bcc54fba187"
  },
  {
   "cell_type": "code",
   "execution_count": 11,
   "outputs": [
    {
     "name": "stdout",
     "output_type": "stream",
     "text": [
      "Finished episode 10 Average rewards:  -498.8\n",
      "Finished episode 20 Average rewards:  -500.0\n",
      "Finished episode 30 Average rewards:  -500.0\n",
      "Finished episode 40 Average rewards:  -500.0\n",
      "Finished episode 50 Average rewards:  -500.0\n",
      "Finished episode 60 Average rewards:  -500.0\n",
      "Finished episode 70 Average rewards:  -487.6\n",
      "Finished episode 80 Average rewards:  -500.0\n",
      "Finished episode 90 Average rewards:  -476.1\n",
      "WARNING:tensorflow:5 out of the last 10 calls to <function reinforce_update at 0x7f027209c670> triggered tf.function retracing. Tracing is expensive and the excessive number of tracings could be due to (1) creating @tf.function repeatedly in a loop, (2) passing tensors with different shapes, (3) passing Python objects instead of tensors. For (1), please define your @tf.function outside of the loop. For (2), @tf.function has experimental_relax_shapes=True option that relaxes argument shapes that can avoid unnecessary retracing. For (3), please refer to https://www.tensorflow.org/guide/function#controlling_retracing and https://www.tensorflow.org/api_docs/python/tf/function for  more details.\n",
      "Finished episode 100 Average rewards:  -483.8\n",
      "WARNING:tensorflow:6 out of the last 11 calls to <function reinforce_update at 0x7f027209c670> triggered tf.function retracing. Tracing is expensive and the excessive number of tracings could be due to (1) creating @tf.function repeatedly in a loop, (2) passing tensors with different shapes, (3) passing Python objects instead of tensors. For (1), please define your @tf.function outside of the loop. For (2), @tf.function has experimental_relax_shapes=True option that relaxes argument shapes that can avoid unnecessary retracing. For (3), please refer to https://www.tensorflow.org/guide/function#controlling_retracing and https://www.tensorflow.org/api_docs/python/tf/function for  more details.\n",
      "Finished episode 110 Average rewards:  -461.9\n",
      "Finished episode 120 Average rewards:  -430.6\n",
      "Finished episode 130 Average rewards:  -385.6\n",
      "Finished episode 140 Average rewards:  -358.6\n",
      "Finished episode 150 Average rewards:  -307.0\n",
      "Finished episode 160 Average rewards:  -289.7\n",
      "Finished episode 170 Average rewards:  -231.7\n",
      "Finished episode 180 Average rewards:  -218.7\n",
      "Finished episode 190 Average rewards:  -215.1\n",
      "Finished episode 200 Average rewards:  -165.8\n",
      "Finished episode 210 Average rewards:  -180.8\n",
      "Finished episode 220 Average rewards:  -157.3\n",
      "Finished episode 230 Average rewards:  -172.9\n",
      "Finished episode 240 Average rewards:  -137.6\n",
      "代码执行时间：0:04:34.937128\n"
     ]
    }
   ],
   "source": [
    "# model.load_weights('./weights_MC.h5')\n",
    "import os\n",
    "from datetime import datetime\n",
    "start_time = datetime.now()\n",
    "\n",
    "env_name = \"Acrobot-v1\"\n",
    "best_avg_rewards = -600\n",
    "avg_rewards = -600\n",
    "times = 0\n",
    "while(avg_rewards < -150):\n",
    "    # if os.path.exists('./weights_AB.h5'):\n",
    "    #     # print(times := times + 1)\n",
    "    #     model.load_weights('./weights_AB.h5')\n",
    "\n",
    "    # Start training the agent\n",
    "    episode_reward_history = []\n",
    "    for batch in range(n_episodes // batch_size):\n",
    "        # Gather episodes\n",
    "        episodes = gather_episodes(state_ub, state_lb, n_actions, model, batch_size, env_name)\n",
    "\n",
    "        # Group states, actions and returns in numpy arrays\n",
    "        states = np.concatenate([ep['states'] for ep in episodes])\n",
    "        actions = np.concatenate([ep['actions'] for ep in episodes])\n",
    "        rewards = [ep['rewards'] for ep in episodes]\n",
    "        returns = np.concatenate([compute_returns(ep_rwds, gamma) for ep_rwds in rewards])\n",
    "        returns = np.array(returns, dtype=np.float32)\n",
    "\n",
    "        id_action_pairs = np.array([[i, a] for i, a in enumerate(actions)])\n",
    "        \n",
    "        \n",
    "        # baseline 部分\n",
    "        coeffs = None\n",
    "        featmat = np.concatenate([features(episode) for episode in episodes])\n",
    "        # rewards = [ep['rewards'] for ep in episodes]\n",
    "        # returns = np.concatenate([compute_returns(ep_rwds, gamma) for ep_rwds in rewards])\n",
    "        # returns = np.array(returns, dtype=np.float32)\n",
    "        reg_coeff = 1e-5\n",
    "        \"\"\"\n",
    "            Linear baseline based on handcrafted features, as described in [1]\n",
    "            (Supplementary Material 2).\n",
    "        \n",
    "            [1] Yan Duan, Xi Chen, Rein Houthooft, John Schulman, Pieter Abbeel,\n",
    "                \"Benchmarking Deep Reinforcement Learning for Continuous Control\", 2016\n",
    "                (https://arxiv.org/abs/1604.06778)\n",
    "                \n",
    "            # https://github.com/rlworkgroup/garage/tree/master/src/garage/np/baselines\n",
    "        \"\"\"\n",
    "        \n",
    "        \n",
    "        \n",
    "        \n",
    "        for _ in range(5):  # 似乎就是尝试拟合出来一个东西\n",
    "            coeffs = np.linalg.lstsq(\n",
    "                featmat.T.dot(featmat) +\n",
    "                reg_coeff * np.identity(featmat.shape[1]),\n",
    "                featmat.T.dot(returns),\n",
    "                rcond=-1)[0]\n",
    "            if not np.any(np.isnan(coeffs)):\n",
    "                break\n",
    "            reg_coeff *= 10\n",
    "            \n",
    "        bs = np.concatenate([features(episode).dot(coeffs) if coeffs is not None else np.zeros(len(rewards)) for episode in episodes])\n",
    "        \n",
    "        returns = np.array(returns - bs, dtype=np.float32)\n",
    "        \n",
    "        \n",
    "\n",
    "        # Update model parameters.\n",
    "        reinforce_update(states, id_action_pairs, returns, model)\n",
    "\n",
    "        # Store collected rewards\n",
    "        for ep_rwds in rewards:\n",
    "            episode_reward_history.append(np.sum(ep_rwds))\n",
    "\n",
    "        avg_rewards = np.mean(episode_reward_history[-10:])\n",
    "\n",
    "        print('Finished episode', (batch + 1) * batch_size,\n",
    "              'Average rewards: ', avg_rewards)\n",
    "\n",
    "        # model.save_weights('./weights_MC.h5')\n",
    "\n",
    "        if avg_rewards >= best_avg_rewards:\n",
    "            best_avg_rewards = avg_rewards\n",
    "            # model.save_weights('./weights_AB.h5')\n",
    "\n",
    "        if avg_rewards >= -150:\n",
    "            break\n",
    "\n",
    "end_time = datetime.now()\n",
    "elapsed_time = end_time - start_time\n",
    "\n",
    "print(f\"代码执行时间：{elapsed_time}\")"
   ],
   "metadata": {
    "collapsed": false,
    "ExecuteTime": {
     "start_time": "2023-10-16T15:52:17.484876928Z"
    }
   },
   "id": "6f469389b4c34ec4"
  },
  {
   "cell_type": "code",
   "execution_count": 14,
   "outputs": [
    {
     "data": {
      "text/plain": "<Figure size 1000x500 with 1 Axes>",
      "image/png": "[encoded data removed]"
     },
     "metadata": {},
     "output_type": "display_data"
    }
   ],
   "source": [
    "from matplotlib import pyplot as plt\n",
    "\n",
    "plt.figure(figsize=(10,5))\n",
    "plt.plot(episode_reward_history)\n",
    "plt.xlabel('Epsiode')\n",
    "plt.ylabel('Collected rewards')\n",
    "plt.show()"
   ],
   "metadata": {
    "collapsed": false,
    "ExecuteTime": {
     "end_time": "2023-10-16T16:06:40.332370762Z",
     "start_time": "2023-10-16T16:06:40.259913986Z"
    }
   },
   "id": "9e236be7e1d9f993"
  },
  {
   "cell_type": "code",
   "execution_count": 15,
   "outputs": [],
   "source": [
    "import pandas as pd\n",
    "\n",
    "# 创建一个DataFrame对象\n",
    "df = pd.DataFrame({'episode_reward_history': episode_reward_history})\n",
    "\n",
    "# 将DataFrame保存到CSV文件\n",
    "df.to_csv('../../results/example/PG/AB_episode_reward_history', index=False)  # 可以指定文件名和是否包括行索引\n",
    "model.save_weights('../../weights/example/PG/PG_AB_weights.h5')"
   ],
   "metadata": {
    "collapsed": false,
    "ExecuteTime": {
     "end_time": "2023-10-16T16:06:41.619798191Z",
     "start_time": "2023-10-16T16:06:41.600161507Z"
    }
   },
   "id": "1f1938513cdc7ee9"
  },
  {
   "cell_type": "code",
   "execution_count": null,
   "outputs": [],
   "source": [],
   "metadata": {
    "collapsed": false
   },
   "id": "29c1c2f3cbdec524"
  }
 ],
 "metadata": {
  "kernelspec": {
   "display_name": "Python 3",
   "language": "python",
   "name": "python3"
  },
  "language_info": {
   "codemirror_mode": {
    "name": "ipython",
    "version": 2
   },
   "file_extension": ".py",
   "mimetype": "text/x-python",
   "name": "python",
   "nbconvert_exporter": "python",
   "pygments_lexer": "ipython2",
   "version": "2.7.6"
  }
 },
 "nbformat": 4,
 "nbformat_minor": 5
}
